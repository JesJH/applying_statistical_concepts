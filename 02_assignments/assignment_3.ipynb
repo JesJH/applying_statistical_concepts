{
 "cells": [
  {
   "cell_type": "markdown",
   "id": "7b0bcac6-5086-4f4e-928a-570a9ff7ae58",
   "metadata": {},
   "source": [
    "# Assignment 3"
   ]
  },
  {
   "cell_type": "markdown",
   "id": "5fce0350-2a17-4e93-8d4c-0b8748fdfc32",
   "metadata": {},
   "source": [
    "As before, if a question can be answered with 'yes/no', or a numeric value, you may simply state as much. If you incorporate code from the internet (which is not required and generally not advisable), please cite the source within your code (providing a URL is sufficient).\n",
    "\n",
    "We will go through comparable code and concepts in the live learning session. If you run into trouble, start by using the help `help()` function in Python, to get information about the datasets and function in question. The internet is also a great resource when coding (though note that no outside searches are required by the assignment!). If you do incorporate code from the internet, please cite the source within your code (providing a URL is sufficient).\n",
    "\n",
    "Please bring questions that you cannot work out on your own to office hours, work periods or share with your peers on Slack. We will work with you through the issue."
   ]
  },
  {
   "cell_type": "code",
   "execution_count": 100,
   "id": "b92f7c91",
   "metadata": {},
   "outputs": [],
   "source": [
    "import numpy as np\n",
    "import pandas as pd\n",
    "import matplotlib.pyplot as plt\n",
    "import statsmodels.api as sm"
   ]
  },
  {
   "cell_type": "markdown",
   "id": "d7fff1dd-e4ce-4a60-96a0-d08136e9bf5e",
   "metadata": {},
   "source": [
    "### Question 1: Resampling via Bootstrapping\n",
    "\n",
    "Now, we'll use the `iris` dataset, which we will add to Python using the `statsmodels` library. As always, start by reviewing a description of the dataset, by printing the dataset."
   ]
  },
  {
   "cell_type": "code",
   "execution_count": 101,
   "id": "47f4dcf5-0d4c-41ea-892d-d9f2c1aa1859",
   "metadata": {},
   "outputs": [],
   "source": [
    "# Import\n",
    "iris = sm.datasets.get_rdataset('iris', 'datasets')\n",
    "df = pd.DataFrame(iris.data)"
   ]
  },
  {
   "cell_type": "markdown",
   "id": "7717a32c",
   "metadata": {},
   "source": [
    "_(i)_ Create an `alpha_func(D, idx)` function which takes the `Sepal`'s `width` and `length` to calculate for alpha"
   ]
  },
  {
   "cell_type": "code",
   "execution_count": 102,
   "id": "f3da5483",
   "metadata": {},
   "outputs": [],
   "source": [
    "# Your code here\n",
    "def alpha_func(D, idx):\n",
    "   cov_ = np.cov(D[['Sepal.Width','Sepal.Length']].loc[idx], rowvar=False) # https://numpy.org/doc/stable/reference/generated/numpy.cov.html\n",
    "   return ((cov_[1,1] - cov_[0,1]) /\n",
    "           (cov_[0,0]+cov_[1,1]-2*cov_[0,1]))"
   ]
  },
  {
   "cell_type": "markdown",
   "id": "ff94d66b",
   "metadata": {},
   "source": [
    "Test the code below"
   ]
  },
  {
   "cell_type": "code",
   "execution_count": 103,
   "id": "eda715cd",
   "metadata": {},
   "outputs": [
    {
     "data": {
      "text/plain": [
       "0.6189498510165621"
      ]
     },
     "execution_count": 103,
     "metadata": {},
     "output_type": "execute_result"
    }
   ],
   "source": [
    "alpha_func(df, range(100))"
   ]
  },
  {
   "cell_type": "markdown",
   "id": "f338b14e",
   "metadata": {},
   "source": [
    "_(ii)_ Construct a new bootstrap data set and recompute alpha"
   ]
  },
  {
   "cell_type": "code",
   "execution_count": 104,
   "id": "34ee835f",
   "metadata": {},
   "outputs": [
    {
     "data": {
      "text/plain": [
       "0.6675354865158226"
      ]
     },
     "execution_count": 104,
     "metadata": {},
     "output_type": "execute_result"
    }
   ],
   "source": [
    "rng = np.random.default_rng(0)\n",
    "alpha_func(df,\n",
    "           rng.choice(100,\n",
    "                      100,\n",
    "                      replace=True))"
   ]
  },
  {
   "cell_type": "markdown",
   "id": "056080ff-7aec-41aa-bb61-763b390e4cf2",
   "metadata": {},
   "source": [
    "Imagine we are analysts working for a shipping company. The company wants to know the average length of iris' petals, to inform space allotment on an upcoming shipment. The relevant variable in the dataset is `Sepal.Length`. \n",
    "\n",
    "_(iii)_ Why is it (perhaps) not sufficient to simply calculate the mean of `Sepal.Length`? What more information will preforming a bootstrap provide to us?  \n",
    "\n",
    "_(iv)_ We can perform bootstrapping in Python by defining a simple function using `boot_SE()` for computing the bootstrap standard error. Remember, because bootstrapping involves randomness, we must first set a seed for reproducibility!"
   ]
  },
  {
   "cell_type": "code",
   "execution_count": 105,
   "id": "77540f76-7747-4dba-8e77-e1ded54af536",
   "metadata": {},
   "outputs": [],
   "source": [
    "# Add your code here to set the seed\n",
    "\n",
    "'''  \n",
    "iii) We only have a sample of the potential lengths of all iris flowers in the world. Using a simple arithmetic mean could mean we are not capturing \n",
    "the actual distribution of iris. \n",
    "By using bootstrap, we are able to understand the variability of iris petal samples to understand variability of the average petal length \n",
    "and make decisions based on the distribution and confidence intervals of the sample data.\n",
    "\n",
    "'''\n",
    "bootstrap_values = []\n",
    "\n",
    "def boot_SE(D, B=1000, seed=0):\n",
    "    rng = np.random.default_rng(seed) # initialize random number generator\n",
    "    n = D.shape[0] # number of observations in data\n",
    "    for i in range(B):\n",
    "        idx = rng.choice(D.index,n,replace=True) # Randomly samples n indices with replacement from df \n",
    "        value = alpha_func(D, idx) # apply function to calculate alpha\n",
    "        bootstrap_values.append(value) # append result to list\n",
    "        \n",
    "    return np.std(np.array(bootstrap_values))\n"
   ]
  },
  {
   "cell_type": "markdown",
   "id": "8a543472",
   "metadata": {},
   "source": [
    "_(v)_ Evaluate the accuracy of our alpha estimate with B = 1000"
   ]
  },
  {
   "cell_type": "code",
   "execution_count": 106,
   "id": "9ed41c4e",
   "metadata": {},
   "outputs": [
    {
     "data": {
      "text/plain": [
       "0.03180510076860766"
      ]
     },
     "execution_count": 106,
     "metadata": {},
     "output_type": "execute_result"
    }
   ],
   "source": [
    "# Your code here\n",
    "''' \n",
    "v) expected value of iris petal can vary by + or - 0.031 from the sample petal mean.\n",
    "'''\n",
    "alpha_SE = boot_SE(D=df,\n",
    "                   B=1000,\n",
    "                   seed=0)\n",
    "alpha_SE\n",
    "\n"
   ]
  },
  {
   "cell_type": "markdown",
   "id": "785fe758-f395-40b6-a9a3-28ec2efeba29",
   "metadata": {},
   "source": [
    "_(vi)_ What is the original mean value of `Sepal.Length`?"
   ]
  },
  {
   "cell_type": "code",
   "execution_count": 107,
   "id": "7686243c",
   "metadata": {},
   "outputs": [
    {
     "data": {
      "text/plain": [
       "5.843333333333334"
      ]
     },
     "execution_count": 107,
     "metadata": {},
     "output_type": "execute_result"
    }
   ],
   "source": [
    "# Add your code here\n",
    "'''   \n",
    "vi) Original mean value = 5.843\n",
    "'''\n",
    "# original mean\n",
    "df['Sepal.Length'].mean()\n"
   ]
  },
  {
   "cell_type": "markdown",
   "id": "356407de",
   "metadata": {},
   "source": [
    "Next, let's create a new bootstrapping to bootstrap samples (boot_se_samples) of Sepal.Length, in order to compute its bootstrapped mean and standard deviation.\n",
    "\n",
    "(vii). Write code to review the bootstrapped mean value, and the standard deviation of the bootstrapped samples. Compare the mean against its original value. Then, review the bootstrapped range, by using t_range = np.ptp(boot_se_samples)."
   ]
  },
  {
   "cell_type": "code",
   "execution_count": 117,
   "id": "bd617e3d",
   "metadata": {},
   "outputs": [
    {
     "name": "stdout",
     "output_type": "stream",
     "text": [
      "Bootstrapped mean: 5.842284666666666\n",
      "Bootstrapped standard deviation: 0.06649295592099295\n",
      "Bootstrapped sample range: 3.6000000000000005\n",
      "Bootstrapped mean range: 0.3873333333333342\n"
     ]
    }
   ],
   "source": [
    "''' \n",
    "vii) \n",
    "bootstrapped mean = 5.84. The bootstrapped mean is similar to the original mean of the original sample's mean.\n",
    "Standard deviation of sample mean = 0.0664\n",
    "The original sample data range is 3.6 and the range of the bootstrapped mean value is 0.387\n",
    "'''\n",
    "\n",
    "\n",
    "def boot_se_new(D, B=1000, seed=0):\n",
    "    rng = np.random.default_rng(seed)  # Initialize random number generator\n",
    "    n = D.shape[0]  # length of dataframe\n",
    "    bootstrap_mean = []  # Initialize bootstrap mean list \n",
    "    bootstrap_samples = []  # Initialize bootstrap samples list \n",
    "    \n",
    "    for i in range(B):\n",
    "        idx = rng.choice(D.index, n, replace=True)  # Randomly samples n indices with replacement from df\n",
    "        \n",
    "        # Mean calculation\n",
    "        bootstrap_sample = D.loc[idx, 'Sepal.Length']  # Get the values of the sample\n",
    "        bootstrap_mean.append(bootstrap_sample.mean())  # Calculate mean of sample and append to list\n",
    "\n",
    "        # Store bootstrapped sample in list\n",
    "        bootstrap_samples.append(bootstrap_sample.tolist()) \n",
    "\n",
    "    bootstrap_mean_array = np.array(bootstrap_mean)\n",
    "\n",
    "    # Calculate mean of overall sample\n",
    "    mean_value = np.mean(bootstrap_mean_array)\n",
    "    # Standard deviation of mean\n",
    "    standard_deviation = np.std(bootstrap_mean_array)\n",
    "    # Calculate range of samples\n",
    "    t_range_sample = np.ptp(bootstrap_samples)\n",
    "    # Calculate range of bootstrapped means\n",
    "    t_range_mean = np.ptp(bootstrap_mean_array)\n",
    "\n",
    "    return bootstrap_mean_array, mean_value, standard_deviation, t_range_sample,t_range_mean\n",
    "\n",
    "\n",
    "# Run function and capture the returned values\n",
    "bootstrap_mean_array, mean_value, standard_deviation, t_range_sample,t_range_mean = boot_se_new(D=df, B=1000, seed=0)\n",
    "\n",
    "# Print the results\n",
    "print(f\"Bootstrapped mean: {mean_value}\")\n",
    "print(f\"Bootstrapped standard deviation: {standard_deviation}\")\n",
    "print(f\"Bootstrapped sample range: {t_range_sample}\")\n",
    "print(f\"Bootstrapped mean range: {t_range_mean}\")\n"
   ]
  },
  {
   "cell_type": "markdown",
   "id": "66c6c663-f3bb-4a15-8896-6dccfb7259fd",
   "metadata": {},
   "source": [
    "_(viii)_ Next, let's compute 95% confidence intervals, for the mean value of iris petal length. (Hint: use the `np.percentile` function)"
   ]
  },
  {
   "cell_type": "code",
   "execution_count": 121,
   "id": "74de4a76-e500-4c93-82a9-e7365cc86c91",
   "metadata": {},
   "outputs": [
    {
     "data": {
      "text/plain": [
       "array([5.71861667, 5.97471667])"
      ]
     },
     "execution_count": 121,
     "metadata": {},
     "output_type": "execute_result"
    }
   ],
   "source": [
    "# Add your code here\n",
    "np.percentile(bootstrap_mean_array, [2.5, 97.5])"
   ]
  },
  {
   "cell_type": "markdown",
   "id": "488e54f7-ebe4-4740-835c-9832320005d0",
   "metadata": {},
   "source": [
    "_(ix)_. Use the plot function to create an histogram of the bootstrapped samples. What does this histogram show ?"
   ]
  },
  {
   "cell_type": "code",
   "execution_count": 129,
   "id": "4fca4e3f",
   "metadata": {},
   "outputs": [
    {
     "data": {
      "image/png": "[encoded data removed]",
      "text/plain": [
       "<Figure size 640x480 with 1 Axes>"
      ]
     },
     "metadata": {},
     "output_type": "display_data"
    }
   ],
   "source": [
    "#Complete this\n",
    "'''\n",
    "The histogram shows the count of bootstrapped means. The bootstrapped means has a slight negative skew\n",
    "\n",
    "'''\n",
    "\n",
    "# Create a figure and axis\n",
    "fig, ax = plt.subplots()\n",
    "\n",
    "# Create the histogram\n",
    "#Add your code here\n",
    "plt.hist(bootstrap_mean_array)\n",
    "# Add a title\n",
    "#Add your code here\n",
    "plt.title('Histogram of Bootstrapped Means')\n",
    "\n",
    "# Add a label to the x-axis\n",
    "#Add your code here\n",
    "plt.xlabel('Bootstrapped Mean')\n",
    "# Add a label to the y-axis\n",
    "#Add your code here\n",
    "plt.ylabel('Count')\n",
    "\n",
    "# plot confidence interval and mean of bootstrapped samples\n",
    "# # Calculate the 95% confidence interval\n",
    "# ci_lower, ci_upper = np.percentile(bootstrap_mean_array, [2.5, 97.5])\n",
    "\n",
    "# plt.axvline(ci_lower, color='r', linestyle='dashed', linewidth=1, label=f'95% CI lower bound: {ci_lower:.2f}')\n",
    "# plt.axvline(ci_upper, color='r', linestyle='dashed', linewidth=1, label=f'95% CI upper bound: {ci_upper:.2f}')\n",
    "# plt.axvline(bootstrap_mean_array.mean(), color='g', linestyle='solid', linewidth=2, label=f'Original mean: {original_mean:.2f}')\n",
    "\n",
    "# Show the plot\n",
    "plt.show()"
   ]
  },
  {
   "cell_type": "markdown",
   "id": "bfa9a095-9c7a-4ab5-aa99-b11bf419fae0",
   "metadata": {},
   "source": [
    "_(x)_ Given your bootstrapped analysis, what do you recommend to shipping company? "
   ]
  },
  {
   "cell_type": "code",
   "execution_count": 112,
   "id": "5e83202e-4aab-44bb-8586-5d0e82e9e201",
   "metadata": {},
   "outputs": [
    {
     "data": {
      "text/plain": [
       "' \\nIris may be 0.758 in length on average, with 95% of petal length falling between 0.697 and 0.82. \\nThe actual size chosen for shipping with depend on the how much risk you want to take with space allotment. \\nBy going with 0.82 as the standard length, you would be able to store 95% of the flowers. There may be some flowers that require additional space \\ndue to the flowers having an extraordinarily long length.\\n'"
      ]
     },
     "execution_count": 112,
     "metadata": {},
     "output_type": "execute_result"
    }
   ],
   "source": [
    "# Write your answer here\n",
    "''' \n",
    "Iris length is 5.83 on average. With 95% of petal length falling between 5.72 and 5.97.\n",
    "The actual size chosen for shipping will depend on the how much risk you want to take with space allotment.\n",
    "By going with 5.97 as the standard length, you would be able to store approximately 95% of the flowers. There may be some flowers that require additional space \n",
    "due to the flowers having an extraordinarily long length.\n",
    "'''"
   ]
  },
  {
   "cell_type": "markdown",
   "id": "466943e8",
   "metadata": {},
   "source": [
    "# Criteria\n",
    "\n",
    "|Criteria            |Complete           |Incomplete          |\n",
    "|--------------------|---------------|--------------|\n",
    "|Bootstrapping|All steps are done correctly and the answers are correct.|At least one step is done incorrectly leading to a wrong answer.|"
   ]
  },
  {
   "cell_type": "markdown",
   "id": "68b8a226",
   "metadata": {},
   "source": [
    "## Submission Information\n",
    "\n",
    "🚨 **Please review our [Assignment Submission Guide](https://github.com/UofT-DSI/onboarding/blob/main/onboarding_documents/submissions.md)** 🚨 for detailed instructions on how to format, branch, and submit your work. Following these guidelines is crucial for your submissions to be evaluated correctly.\n",
    "\n",
    "### Note:\n",
    "\n",
    "If you like, you may collaborate with others in the cohort. If you choose to do so, please indicate with whom you have worked with in your pull request by tagging their GitHub username. Separate submissions are required.\n",
    "\n",
    "\n",
    "### Submission Parameters:\n",
    "* Submission Due Date: `HH:MM AM/PM - DD/MM/YYYY`\n",
    "* The branch name for your repo should be: `assignment-3`\n",
    "* What to submit for this assignment:\n",
    "    * This Jupyter Notebook (assignment_3.ipynb) should be populated and should be the only change in your pull request.\n",
    "* What the pull request link should look like for this assignment: `https://github.com/<your_github_username>/applying_statistical_concepts/pull/<pr_id>`\n",
    "    * Open a private window in your browser. Copy and paste the link to your pull request into the address bar. Make sure you can see your pull request properly. This helps the technical facilitator and learning support staff review your submission easily.\n",
    "\n",
    "Checklist:\n",
    "- [ ] Created a branch with the correct naming convention.\n",
    "- [ ] Ensured that the repository is public.\n",
    "- [ ] Reviewed the PR description guidelines and adhered to them.\n",
    "- [ ] Verify that the link is accessible in a private browser window.\n",
    "\n",
    "If you encounter any difficulties or have questions, please don't hesitate to reach out to our team via our Slack at `#cohort-3-help`. Our Technical Facilitators and Learning Support staff are here to help you navigate any challenges.\n"
   ]
  }
 ],
 "metadata": {
  "kernelspec": {
   "display_name": "Python 3.10.4",
   "language": "python",
   "name": "python3"
  },
  "language_info": {
   "codemirror_mode": {
    "name": "ipython",
    "version": 3
   },
   "file_extension": ".py",
   "mimetype": "text/x-python",
   "name": "python",
   "nbconvert_exporter": "python",
   "pygments_lexer": "ipython3",
   "version": "3.9.15"
  },
  "vscode": {
   "interpreter": {
    "hash": "497a84dc8fec8cf8d24e7e87b6d954c9a18a327edc66feb9b9ea7e9e72cc5c7e"
   }
  }
 },
 "nbformat": 4,
 "nbformat_minor": 5
}
